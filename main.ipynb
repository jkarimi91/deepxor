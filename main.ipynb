{
 "cells": [
  {
   "cell_type": "markdown",
   "metadata": {},
   "source": [
    "# The problem:\n",
    "\n",
    "Train an LSTM to solve the `XOR` problem: that is, given a sequence of bits, determine its parity. The [LSTM][2] should consume the sequence, one bit at a time, and then output the correct answer at the sequence’s end. Test the two approaches below:\n",
    "\n",
    "  * Generate a dataset of random 100,000 binary strings of length 50. Train the LSTM; what performance do you get?\n",
    "  * Generate a dataset of random 100,000 binary strings, where the length of each string is independently and randomly chosen between 1 and 50. Train the LSTM. Does it succeed? What explains the difference?\n",
    "\n",
    "\n",
    "[1]: https://blog.openai.com/requests-for-research-2/\n",
    "[2]: https://arxiv.org/abs/1706.03762"
   ]
  },
  {
   "cell_type": "markdown",
   "metadata": {},
   "source": [
    "# The `XOR` problem?\n",
    "\n",
    "The `XOR` problem arises when training a single perceptron as an `XOR` gate. To see this, let's start by training a perceptron as an `AND` gate."
   ]
  },
  {
   "cell_type": "markdown",
   "metadata": {},
   "source": [
    "### Create the `AND` gate data."
   ]
  },
  {
   "cell_type": "code",
   "execution_count": 49,
   "metadata": {},
   "outputs": [],
   "source": [
    "import torch\n",
    "from torch.autograd import Variable\n",
    "from itertools import product\n",
    "import operator"
   ]
  },
  {
   "cell_type": "code",
   "execution_count": 50,
   "metadata": {},
   "outputs": [],
   "source": [
    "def create_data(gate_operator):\n",
    "    bits = [0, 1]\n",
    "    num_input_bits = 2\n",
    "\n",
    "    inputs = [list(pair) for pair in product(bits, repeat=num_input_bits)]\n",
    "    outputs = [gate_operator(*pair) for pair in inputs]\n",
    "    return inputs, outputs\n",
    "\n",
    "\n",
    "# Create AND gate inputs & outputs.\n",
    "inputs, outputs = create_data(operator.and_)"
   ]
  },
  {
   "cell_type": "markdown",
   "metadata": {},
   "source": [
    "### Build and train the perceptron."
   ]
  },
  {
   "cell_type": "code",
   "execution_count": 51,
   "metadata": {},
   "outputs": [],
   "source": [
    "import torch.nn as nn\n",
    "import torch.optim as optim"
   ]
  },
  {
   "cell_type": "code",
   "execution_count": 52,
   "metadata": {},
   "outputs": [],
   "source": [
    "def train(model, inputs, outputs, num_epochs, lr):\n",
    "    losses = []\n",
    "    num_epochs = num_epochs\n",
    "\n",
    "    loss_fxn = nn.BCELoss()\n",
    "    optimizer = optim.RMSprop(model.parameters(), lr=lr)\n",
    "    \n",
    "    inputs = Variable(torch.Tensor(inputs), requires_grad=True)\n",
    "    outputs = Variable(torch.Tensor(outputs).unsqueeze(-1))\n",
    "\n",
    "    for _ in xrange(num_epochs):\n",
    "        predictions = model(inputs)\n",
    "        loss = loss_fxn(predictions, outputs)\n",
    "\n",
    "        optimizer.zero_grad()\n",
    "        loss.backward()\n",
    "        optimizer.step()\n",
    "\n",
    "        losses.append(loss.data[0])\n",
    "    return losses\n",
    "\n",
    "\n",
    "# Build model.\n",
    "num_input_bits = 2\n",
    "num_output_bits = 1\n",
    "model = nn.Sequential(\n",
    "            nn.Linear(num_input_bits, num_output_bits),\n",
    "            nn.Sigmoid()\n",
    "        )\n",
    "\n",
    "# Train model.\n",
    "losses = train(model, inputs, outputs, num_epochs=2000, lr=0.1)"
   ]
  },
  {
   "cell_type": "markdown",
   "metadata": {},
   "source": [
    "### Plot the training loss."
   ]
  },
  {
   "cell_type": "code",
   "execution_count": 53,
   "metadata": {},
   "outputs": [],
   "source": [
    "%matplotlib inline\n",
    "import matplotlib.pyplot as plt\n",
    "import seaborn as sns\n",
    "sns.set()  # Applies seaborn style defaults to matplotlib"
   ]
  },
  {
   "cell_type": "code",
   "execution_count": 54,
   "metadata": {},
   "outputs": [
    {
     "data": {
      "image/png": "[encoded data removed]",
      "text/plain": [
       "<matplotlib.figure.Figure at 0x1a1e1fcc50>"
      ]
     },
     "metadata": {},
     "output_type": "display_data"
    }
   ],
   "source": [
    "def create_loss_plot(losses, title):\n",
    "    plt.plot(losses);\n",
    "    plt.xlabel('epoch');\n",
    "    plt.ylabel('loss');\n",
    "    plt.title(title);\n",
    "    \n",
    "    \n",
    "# Plot losses.\n",
    "title = 'AND gate training'\n",
    "create_loss_plot(losses, title)"
   ]
  },
  {
   "cell_type": "markdown",
   "metadata": {},
   "source": [
    "### Visualize the decision boundary."
   ]
  },
  {
   "cell_type": "code",
   "execution_count": 55,
   "metadata": {},
   "outputs": [],
   "source": [
    "import matplotlib\n",
    "import numpy as np"
   ]
  },
  {
   "cell_type": "code",
   "execution_count": 56,
   "metadata": {},
   "outputs": [
    {
     "data": {
      "image/png": "[encoded data removed]",
      "text/plain": [
       "<matplotlib.figure.Figure at 0x1a1e4aa510>"
      ]
     },
     "metadata": {},
     "output_type": "display_data"
    }
   ],
   "source": [
    "def create_decision_boundary_plot(model, inputs, outputs, title):\n",
    "    # https://stackoverflow.com/questions/22294241/plotting-a-decision-boundary-separating-2-classes-using-matplotlibs-pyplot\n",
    "    # https://stackoverflow.com/questions/12487060/matplotlib-color-according-to-class-labels\n",
    "\n",
    "    inputs = np.asarray(inputs)\n",
    "    outputs = np.asarray(outputs)\n",
    "\n",
    "    colors = ['blue', 'green']\n",
    "    plt.scatter(inputs[:, 0], inputs[:, 1], c=outputs.ravel(), cmap=matplotlib.colors.ListedColormap(colors));\n",
    "    plt.xlabel('x');\n",
    "    plt.ylabel('y');\n",
    "    plt.title(title)\n",
    "\n",
    "    bits = [0, 1]\n",
    "    step = 0.01\n",
    "    x_min, x_max = min(bits) - 1, max(bits) + 1\n",
    "    y_min, y_max = x_min, x_max\n",
    "\n",
    "    xx, yy = np.meshgrid(\n",
    "                np.arange(x_min, x_max, step),\n",
    "                np.arange(y_min, y_max, step)\n",
    "            )\n",
    "\n",
    "    mesh_inputs = np.c_[xx.ravel(), yy.ravel()]\n",
    "    predictions = model(Variable(torch.Tensor(mesh_inputs), requires_grad=False))\n",
    "    predictions = predictions.data.numpy().reshape(xx.shape)\n",
    "\n",
    "    plt.contour(xx, yy, np.around(predictions), colors=['red']);\n",
    "    plt.plot();\n",
    "    \n",
    "    \n",
    "# View results.\n",
    "title = 'AND gate decision boundary'\n",
    "create_decision_boundary_plot(model, inputs, outputs, title)"
   ]
  },
  {
   "cell_type": "markdown",
   "metadata": {},
   "source": [
    "As expected, the perceptron successfully finds a decision boundary which splits the labels. Now let's see what happens for an `XOR` gate."
   ]
  },
  {
   "cell_type": "markdown",
   "metadata": {},
   "source": [
    "### Create the `XOR` gate data."
   ]
  },
  {
   "cell_type": "code",
   "execution_count": 57,
   "metadata": {},
   "outputs": [],
   "source": [
    "# Create XOR gate inputs & outputs.\n",
    "inputs, outputs = create_data(operator.xor)"
   ]
  },
  {
   "cell_type": "markdown",
   "metadata": {},
   "source": [
    "### Build and train the perceptron."
   ]
  },
  {
   "cell_type": "code",
   "execution_count": 58,
   "metadata": {},
   "outputs": [],
   "source": [
    "# Build model.\n",
    "model = nn.Sequential(\n",
    "            nn.Linear(num_input_bits, num_output_bits),\n",
    "            nn.Sigmoid()\n",
    "        )\n",
    "\n",
    "# Train model.\n",
    "losses = train(model, inputs, outputs, num_epochs=1000, lr=0.01)"
   ]
  },
  {
   "cell_type": "markdown",
   "metadata": {},
   "source": [
    "### Plot the training loss."
   ]
  },
  {
   "cell_type": "code",
   "execution_count": 59,
   "metadata": {},
   "outputs": [
    {
     "data": {
      "image/png": "[encoded data removed]",
      "text/plain": [
       "<matplotlib.figure.Figure at 0x1a1e62f450>"
      ]
     },
     "metadata": {},
     "output_type": "display_data"
    }
   ],
   "source": [
    "# Plot losses\n",
    "title = 'XOR gate training'\n",
    "create_loss_plot(losses, title)"
   ]
  },
  {
   "cell_type": "markdown",
   "metadata": {},
   "source": [
    "### Visualize the decision boundary."
   ]
  },
  {
   "cell_type": "code",
   "execution_count": 60,
   "metadata": {},
   "outputs": [
    {
     "data": {
      "image/png": "[encoded data removed]",
      "text/plain": [
       "<matplotlib.figure.Figure at 0x1a1df9ee50>"
      ]
     },
     "metadata": {},
     "output_type": "display_data"
    }
   ],
   "source": [
    "# View results.\n",
    "title = 'XOR gate (1 hidden unit) decision boundary'\n",
    "create_decision_boundary_plot(model, inputs, outputs, title)"
   ]
  },
  {
   "cell_type": "markdown",
   "metadata": {},
   "source": [
    "The perceptron is unable to approximate the `XOR` gate! This is due to the fact that the `XOR` problem is not \n",
    "[linearly seperable][1] i.e. there is no **single** line which can seperate the two classes. To address this problem, we simply need to add an additional perceptron which, in turn, introduces an additional decision boundary.\n",
    "\n",
    "[1]: https://en.wikipedia.org/wiki/Linear_separability"
   ]
  },
  {
   "cell_type": "markdown",
   "metadata": {},
   "source": [
    "### Build and train the perceptrons."
   ]
  },
  {
   "cell_type": "code",
   "execution_count": 61,
   "metadata": {},
   "outputs": [],
   "source": [
    "# Build model.\n",
    "num_hidden_units = 2\n",
    "model = nn.Sequential(\n",
    "            nn.Linear(num_input_bits, num_hidden_units),\n",
    "            nn.Sigmoid(),\n",
    "            nn.Linear(num_hidden_units, num_output_bits),\n",
    "            nn.Sigmoid()\n",
    "        )\n",
    "\n",
    "# Train model.\n",
    "losses = train(model, inputs, outputs, num_epochs=5000, lr=0.01)"
   ]
  },
  {
   "cell_type": "markdown",
   "metadata": {},
   "source": [
    "### Plot the training loss."
   ]
  },
  {
   "cell_type": "code",
   "execution_count": 62,
   "metadata": {},
   "outputs": [
    {
     "data": {
      "image/png": "[encoded data removed]",
      "text/plain": [
       "<matplotlib.figure.Figure at 0x1a1de76390>"
      ]
     },
     "metadata": {},
     "output_type": "display_data"
    }
   ],
   "source": [
    "# Plot losses\n",
    "title = 'XOR gate training'\n",
    "create_loss_plot(losses, title)"
   ]
  },
  {
   "cell_type": "markdown",
   "metadata": {},
   "source": [
    "### Visualize the decision boundary."
   ]
  },
  {
   "cell_type": "code",
   "execution_count": 63,
   "metadata": {},
   "outputs": [
    {
     "data": {
      "image/png": "[encoded data removed]",
      "text/plain": [
       "<matplotlib.figure.Figure at 0x1a1dadec50>"
      ]
     },
     "metadata": {},
     "output_type": "display_data"
    }
   ],
   "source": [
    "# View results.\n",
    "title = 'XOR gate (2 hidden units) decision boundary'\n",
    "create_decision_boundary_plot(model, inputs, outputs, title)"
   ]
  },
  {
   "cell_type": "markdown",
   "metadata": {},
   "source": [
    "For more information, as well as visualizations, see:\n",
    "  * [Quora: What is XOR problem in neural networks?][1]\n",
    "  * [XOR problem theory][2]\n",
    "\n",
    "\n",
    "[1]: https://www.quora.com/What-is-XOR-problem-in-neural-networks\n",
    "[2]: http://home.agh.edu.pl/~vlsi/AI/xor_t/en/main.htm"
   ]
  },
  {
   "cell_type": "markdown",
   "metadata": {},
   "source": [
    "## What does `XOR` have to do with parity?\n",
    "\n",
    "As noted on [Wikipedia][1], parity, in this context, refers to,\n",
    "\n",
    "> ...the evenness or oddness of the number of bits with value one within a given set of bits...It can be calculated via an XOR sum of the bits, yielding 0 for even parity and 1 for odd parity.\n",
    "\n",
    "\n",
    "[1]: https://en.wikipedia.org/wiki/Parity_bit#Parity"
   ]
  },
  {
   "cell_type": "markdown",
   "metadata": {},
   "source": [
    "# The experiments:"
   ]
  },
  {
   "cell_type": "markdown",
   "metadata": {},
   "source": [
    "## Build/load the dataset."
   ]
  },
  {
   "cell_type": "code",
   "execution_count": 1,
   "metadata": {},
   "outputs": [],
   "source": [
    "import random"
   ]
  },
  {
   "cell_type": "code",
   "execution_count": 146,
   "metadata": {},
   "outputs": [],
   "source": [
    "def build_dataset(num_examples, max_seq_len, fixed_seq_len=True):\n",
    "    X = []\n",
    "    y = []\n",
    "    \n",
    "    for _ in xrange(num_examples):\n",
    "        if not fixed_seq_len:\n",
    "            seq_len = random.randint(1, max_seq_len)\n",
    "        else:\n",
    "            seq_len = max_seq_len\n",
    "        \n",
    "        bin_seq = [random.choice([0, 1]) for _ in xrange(seq_len)]\n",
    "        parity = int(sum(bin_seq) % 2 !=0)\n",
    "        \n",
    "        X.append(bin_seq)\n",
    "        y.append(parity)\n",
    "    \n",
    "    return X, y"
   ]
  },
  {
   "cell_type": "code",
   "execution_count": 164,
   "metadata": {},
   "outputs": [],
   "source": [
    "str_len = 50\n",
    "num_examples = 100000\n",
    "\n",
    "X, y = build_dataset(num_examples, str_len)"
   ]
  },
  {
   "cell_type": "markdown",
   "metadata": {},
   "source": [
    "## Prepare data for training"
   ]
  },
  {
   "cell_type": "code",
   "execution_count": 165,
   "metadata": {},
   "outputs": [],
   "source": [
    "import torch\n",
    "from torch.autograd import Variable\n",
    "from torch.utils.data import TensorDataset\n",
    "from torch.utils.data import DataLoader\n",
    "# from sklearn.model_selection import train_test_split"
   ]
  },
  {
   "cell_type": "code",
   "execution_count": 166,
   "metadata": {},
   "outputs": [],
   "source": [
    "def one_hot_encode(data):\n",
    "    result = []\n",
    "    \n",
    "    for bin_seq in data:\n",
    "        one_hot_bin = []\n",
    "        for bit in bin_seq:\n",
    "            one_hot_bit = [0, 0]\n",
    "            one_hot_bit[bit] = 1\n",
    "            \n",
    "            one_hot_bin.append(one_hot_bit)\n",
    "            \n",
    "        result.append(one_hot_bin)\n",
    "            \n",
    "    return result"
   ]
  },
  {
   "cell_type": "code",
   "execution_count": 167,
   "metadata": {},
   "outputs": [],
   "source": [
    "X = one_hot_encode(X)"
   ]
  },
  {
   "cell_type": "code",
   "execution_count": 168,
   "metadata": {},
   "outputs": [],
   "source": [
    "X = torch.Tensor(X)\n",
    "y = torch.Tensor(y)\n",
    "train = DataLoader(TensorDataset(X, y), batch_size=10)\n",
    "# X_train, X_val, y_train, y_val = train_test_split(X, y, train_size=train_size)"
   ]
  },
  {
   "cell_type": "code",
   "execution_count": 169,
   "metadata": {},
   "outputs": [
    {
     "data": {
      "text/plain": [
       "torch.Size([100000, 50, 2])"
      ]
     },
     "execution_count": 169,
     "metadata": {},
     "output_type": "execute_result"
    }
   ],
   "source": [
    "X.shape"
   ]
  },
  {
   "cell_type": "markdown",
   "metadata": {},
   "source": [
    "## Build the network"
   ]
  },
  {
   "cell_type": "code",
   "execution_count": 170,
   "metadata": {},
   "outputs": [],
   "source": [
    "import torch.nn as nn"
   ]
  },
  {
   "cell_type": "code",
   "execution_count": 194,
   "metadata": {},
   "outputs": [],
   "source": [
    "class Model(nn.Module):\n",
    "    def __init__(self, input_size, hidden_size, num_layers, batch_first):\n",
    "        super(Model, self).__init__()\n",
    "        self.LSTM = nn.LSTM(input_size=input_size, hidden_size=hidden_size, \n",
    "                            num_layers=num_layers, batch_first=batch_first)\n",
    "#         self.Linear = nn.Linear(hidden_size, 1)\n",
    "        self.Softmax = nn.Softmax()\n",
    "        \n",
    "    def forward(self, inputs):\n",
    "        outputs, _ = self.LSTM(inputs)\n",
    "        outputs = outputs[:, -1]  # get last timestep only\n",
    "#         outputs = self.Linear(outputs)\n",
    "        return self.Softmax(outputs)"
   ]
  },
  {
   "cell_type": "code",
   "execution_count": 203,
   "metadata": {},
   "outputs": [],
   "source": [
    "model = Model(input_size=X.shape[-1], hidden_size=1, num_layers=1, batch_first=True).cuda()"
   ]
  },
  {
   "cell_type": "markdown",
   "metadata": {},
   "source": [
    "## Train the network"
   ]
  },
  {
   "cell_type": "code",
   "execution_count": 204,
   "metadata": {},
   "outputs": [],
   "source": [
    "from torch.optim import RMSprop\n",
    "from torch.nn import BCELoss"
   ]
  },
  {
   "cell_type": "code",
   "execution_count": 205,
   "metadata": {},
   "outputs": [],
   "source": [
    "loss_fxn = BCELoss()\n",
    "optimizer = RMSprop(model.parameters())"
   ]
  },
  {
   "cell_type": "code",
   "execution_count": 206,
   "metadata": {},
   "outputs": [
    {
     "name": "stderr",
     "output_type": "stream",
     "text": [
      "/home/jkarimi91/Apps/miniconda2/envs/xor/lib/python2.7/site-packages/ipykernel_launcher.py:13: UserWarning: Implicit dimension choice for softmax has been deprecated. Change the call to include dim=X as an argument.\n",
      "  del sys.path[0]\n",
      "/home/jkarimi91/Apps/miniconda2/envs/xor/lib/python2.7/site-packages/torch/nn/functional.py:1168: UserWarning: Using a target size (torch.Size([10])) that is different to the input size (torch.Size([10, 2])) is deprecated. Please ensure they have the same size.\n",
      "  \"Please ensure they have the same size.\".format(target.size(), input.size()))\n"
     ]
    },
    {
     "ename": "ValueError",
     "evalue": "Target and input must have the same number of elements. target nelement (10) != input nelement (20)",
     "output_type": "error",
     "traceback": [
      "\u001b[0;31m---------------------------------------------------------------------------\u001b[0m",
      "\u001b[0;31mValueError\u001b[0m                                Traceback (most recent call last)",
      "\u001b[0;32m<ipython-input-206-819410262292>\u001b[0m in \u001b[0;36m<module>\u001b[0;34m()\u001b[0m\n\u001b[1;32m     10\u001b[0m \u001b[0;34m\u001b[0m\u001b[0m\n\u001b[1;32m     11\u001b[0m \u001b[0;31m#         print labels\u001b[0m\u001b[0;34m\u001b[0m\u001b[0;34m\u001b[0m\u001b[0m\n\u001b[0;32m---> 12\u001b[0;31m         \u001b[0mloss\u001b[0m \u001b[0;34m=\u001b[0m \u001b[0mloss_fxn\u001b[0m\u001b[0;34m(\u001b[0m\u001b[0mpredicted_labels\u001b[0m\u001b[0;34m,\u001b[0m \u001b[0mlabels\u001b[0m\u001b[0;34m)\u001b[0m\u001b[0;34m\u001b[0m\u001b[0m\n\u001b[0m\u001b[1;32m     13\u001b[0m         \u001b[0moptimizer\u001b[0m\u001b[0;34m.\u001b[0m\u001b[0mzero_grad\u001b[0m\u001b[0;34m(\u001b[0m\u001b[0;34m)\u001b[0m\u001b[0;34m\u001b[0m\u001b[0m\n\u001b[1;32m     14\u001b[0m         \u001b[0mloss\u001b[0m\u001b[0;34m.\u001b[0m\u001b[0mbackward\u001b[0m\u001b[0;34m(\u001b[0m\u001b[0;34m)\u001b[0m\u001b[0;34m\u001b[0m\u001b[0m\n",
      "\u001b[0;32m/home/jkarimi91/Apps/miniconda2/envs/xor/lib/python2.7/site-packages/torch/nn/modules/module.pyc\u001b[0m in \u001b[0;36m__call__\u001b[0;34m(self, *input, **kwargs)\u001b[0m\n\u001b[1;32m    323\u001b[0m         \u001b[0;32mfor\u001b[0m \u001b[0mhook\u001b[0m \u001b[0;32min\u001b[0m \u001b[0mself\u001b[0m\u001b[0;34m.\u001b[0m\u001b[0m_forward_pre_hooks\u001b[0m\u001b[0;34m.\u001b[0m\u001b[0mvalues\u001b[0m\u001b[0;34m(\u001b[0m\u001b[0;34m)\u001b[0m\u001b[0;34m:\u001b[0m\u001b[0;34m\u001b[0m\u001b[0m\n\u001b[1;32m    324\u001b[0m             \u001b[0mhook\u001b[0m\u001b[0;34m(\u001b[0m\u001b[0mself\u001b[0m\u001b[0;34m,\u001b[0m \u001b[0minput\u001b[0m\u001b[0;34m)\u001b[0m\u001b[0;34m\u001b[0m\u001b[0m\n\u001b[0;32m--> 325\u001b[0;31m         \u001b[0mresult\u001b[0m \u001b[0;34m=\u001b[0m \u001b[0mself\u001b[0m\u001b[0;34m.\u001b[0m\u001b[0mforward\u001b[0m\u001b[0;34m(\u001b[0m\u001b[0;34m*\u001b[0m\u001b[0minput\u001b[0m\u001b[0;34m,\u001b[0m \u001b[0;34m**\u001b[0m\u001b[0mkwargs\u001b[0m\u001b[0;34m)\u001b[0m\u001b[0;34m\u001b[0m\u001b[0m\n\u001b[0m\u001b[1;32m    326\u001b[0m         \u001b[0;32mfor\u001b[0m \u001b[0mhook\u001b[0m \u001b[0;32min\u001b[0m \u001b[0mself\u001b[0m\u001b[0;34m.\u001b[0m\u001b[0m_forward_hooks\u001b[0m\u001b[0;34m.\u001b[0m\u001b[0mvalues\u001b[0m\u001b[0;34m(\u001b[0m\u001b[0;34m)\u001b[0m\u001b[0;34m:\u001b[0m\u001b[0;34m\u001b[0m\u001b[0m\n\u001b[1;32m    327\u001b[0m             \u001b[0mhook_result\u001b[0m \u001b[0;34m=\u001b[0m \u001b[0mhook\u001b[0m\u001b[0;34m(\u001b[0m\u001b[0mself\u001b[0m\u001b[0;34m,\u001b[0m \u001b[0minput\u001b[0m\u001b[0;34m,\u001b[0m \u001b[0mresult\u001b[0m\u001b[0;34m)\u001b[0m\u001b[0;34m\u001b[0m\u001b[0m\n",
      "\u001b[0;32m/home/jkarimi91/Apps/miniconda2/envs/xor/lib/python2.7/site-packages/torch/nn/modules/loss.pyc\u001b[0m in \u001b[0;36mforward\u001b[0;34m(self, input, target)\u001b[0m\n\u001b[1;32m    370\u001b[0m         \u001b[0m_assert_no_grad\u001b[0m\u001b[0;34m(\u001b[0m\u001b[0mtarget\u001b[0m\u001b[0;34m)\u001b[0m\u001b[0;34m\u001b[0m\u001b[0m\n\u001b[1;32m    371\u001b[0m         return F.binary_cross_entropy(input, target, weight=self.weight,\n\u001b[0;32m--> 372\u001b[0;31m                                       size_average=self.size_average)\n\u001b[0m\u001b[1;32m    373\u001b[0m \u001b[0;34m\u001b[0m\u001b[0m\n\u001b[1;32m    374\u001b[0m \u001b[0;34m\u001b[0m\u001b[0m\n",
      "\u001b[0;32m/home/jkarimi91/Apps/miniconda2/envs/xor/lib/python2.7/site-packages/torch/nn/functional.pyc\u001b[0m in \u001b[0;36mbinary_cross_entropy\u001b[0;34m(input, target, weight, size_average)\u001b[0m\n\u001b[1;32m   1169\u001b[0m     \u001b[0;32mif\u001b[0m \u001b[0minput\u001b[0m\u001b[0;34m.\u001b[0m\u001b[0mnelement\u001b[0m\u001b[0;34m(\u001b[0m\u001b[0;34m)\u001b[0m \u001b[0;34m!=\u001b[0m \u001b[0mtarget\u001b[0m\u001b[0;34m.\u001b[0m\u001b[0mnelement\u001b[0m\u001b[0;34m(\u001b[0m\u001b[0;34m)\u001b[0m\u001b[0;34m:\u001b[0m\u001b[0;34m\u001b[0m\u001b[0m\n\u001b[1;32m   1170\u001b[0m         raise ValueError(\"Target and input must have the same number of elements. target nelement ({}) \"\n\u001b[0;32m-> 1171\u001b[0;31m                          \"!= input nelement ({})\".format(target.nelement(), input.nelement()))\n\u001b[0m\u001b[1;32m   1172\u001b[0m \u001b[0;34m\u001b[0m\u001b[0m\n\u001b[1;32m   1173\u001b[0m     \u001b[0;32mif\u001b[0m \u001b[0mweight\u001b[0m \u001b[0;32mis\u001b[0m \u001b[0;32mnot\u001b[0m \u001b[0mNone\u001b[0m\u001b[0;34m:\u001b[0m\u001b[0;34m\u001b[0m\u001b[0m\n",
      "\u001b[0;31mValueError\u001b[0m: Target and input must have the same number of elements. target nelement (10) != input nelement (20)"
     ]
    }
   ],
   "source": [
    "for epoch in xrange(5):\n",
    "    losses = []\n",
    "    for _, data in enumerate(train):\n",
    "        inputs, labels = data\n",
    "        inputs = Variable(inputs, requires_grad=True).cuda()\n",
    "        labels = Variable(labels.float()).cuda()\n",
    "\n",
    "#         print inputs\n",
    "        predicted_labels = model(inputs)\n",
    "\n",
    "#         print labels\n",
    "        loss = loss_fxn(predicted_labels, labels)\n",
    "        optimizer.zero_grad()\n",
    "        loss.backward()\n",
    "        optimizer.step()\n",
    "        \n",
    "        losses.append(loss.data[0])"
   ]
  },
  {
   "cell_type": "code",
   "execution_count": 199,
   "metadata": {},
   "outputs": [],
   "source": [
    "%matplotlib inline\n",
    "import matplotlib.pyplot as plt"
   ]
  },
  {
   "cell_type": "code",
   "execution_count": 200,
   "metadata": {},
   "outputs": [
    {
     "data": {
      "image/png": "[encoded data removed]",
      "text/plain": [
       "<matplotlib.figure.Figure at 0x7f2ad771db10>"
      ]
     },
     "metadata": {},
     "output_type": "display_data"
    }
   ],
   "source": [
    "plt.plot(losses)\n",
    "plt.show()"
   ]
  },
  {
   "cell_type": "code",
   "execution_count": 207,
   "metadata": {},
   "outputs": [
    {
     "name": "stderr",
     "output_type": "stream",
     "text": [
      "/home/jkarimi91/Apps/miniconda2/envs/xor/lib/python2.7/site-packages/ipykernel_launcher.py:13: UserWarning: Implicit dimension choice for softmax has been deprecated. Change the call to include dim=X as an argument.\n",
      "  del sys.path[0]\n"
     ]
    },
    {
     "data": {
      "text/plain": [
       "Variable containing:\n",
       " 0.6107  0.3893\n",
       " 0.6030  0.3970\n",
       " 0.5867  0.4133\n",
       " 0.6060  0.3940\n",
       " 0.5816  0.4184\n",
       " 0.6091  0.3909\n",
       " 0.5989  0.4011\n",
       " 0.5761  0.4239\n",
       " 0.5835  0.4165\n",
       " 0.6115  0.3885\n",
       "[torch.cuda.FloatTensor of size 10x2 (GPU 0)]"
      ]
     },
     "execution_count": 207,
     "metadata": {},
     "output_type": "execute_result"
    }
   ],
   "source": [
    "model(inputs)"
   ]
  },
  {
   "cell_type": "code",
   "execution_count": 202,
   "metadata": {},
   "outputs": [
    {
     "data": {
      "text/plain": [
       "Variable containing:\n",
       " 1\n",
       " 0\n",
       " 1\n",
       " 1\n",
       " 1\n",
       " 0\n",
       " 1\n",
       " 0\n",
       " 1\n",
       " 0\n",
       "[torch.cuda.FloatTensor of size 10 (GPU 0)]"
      ]
     },
     "execution_count": 202,
     "metadata": {},
     "output_type": "execute_result"
    }
   ],
   "source": [
    "labels"
   ]
  },
  {
   "cell_type": "code",
   "execution_count": null,
   "metadata": {},
   "outputs": [],
   "source": [
    "help(LSTM)"
   ]
  },
  {
   "cell_type": "code",
   "execution_count": null,
   "metadata": {},
   "outputs": [],
   "source": []
  }
 ],
 "metadata": {
  "kernelspec": {
   "display_name": "Python 2",
   "language": "python",
   "name": "python2"
  },
  "language_info": {
   "codemirror_mode": {
    "name": "ipython",
    "version": 2
   },
   "file_extension": ".py",
   "mimetype": "text/x-python",
   "name": "python",
   "nbconvert_exporter": "python",
   "pygments_lexer": "ipython2",
   "version": "2.7.14"
  }
 },
 "nbformat": 4,
 "nbformat_minor": 2
}
