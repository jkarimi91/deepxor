{
 "cells": [
  {
   "cell_type": "markdown",
   "metadata": {},
   "source": [
    "# The original problem:\n",
    "\n",
    "Train an LSTM to solve the `XOR` problem: that is, given a sequence of bits, determine its parity. The [LSTM][2] should consume the sequence, one bit at a time, and then output the correct answer at the sequence’s end. Test the two approaches below:\n",
    "\n",
    "  * Generate a dataset of random 100,000 binary strings of length 50. Train the LSTM; what performance do you get?\n",
    "  * Generate a dataset of random 100,000 binary strings, where the length of each string is independently and randomly chosen between 1 and 50. Train the LSTM. Does it succeed? What explains the difference?\n",
    "\n",
    "\n",
    "[1]: https://blog.openai.com/requests-for-research-2/\n",
    "[2]: https://arxiv.org/abs/1706.03762"
   ]
  },
  {
   "cell_type": "markdown",
   "metadata": {},
   "source": [
    "# The `XOR` problem?\n",
    "\n",
    "The `XOR` problem arises when training a single perceptron as an `XOR` gate. To see this, let's start by training a perceptron as an `AND` gate."
   ]
  },
  {
   "cell_type": "markdown",
   "metadata": {},
   "source": [
    "## `AND` gate experiments."
   ]
  },
  {
   "cell_type": "markdown",
   "metadata": {},
   "source": [
    "### Create gate data."
   ]
  },
  {
   "cell_type": "code",
   "execution_count": 1,
   "metadata": {},
   "outputs": [],
   "source": [
    "import torch\n",
    "from torch.autograd import Variable\n",
    "from itertools import product\n",
    "import operator"
   ]
  },
  {
   "cell_type": "code",
   "execution_count": 2,
   "metadata": {},
   "outputs": [],
   "source": [
    "def create_data(gate_operator):\n",
    "    bits = [0, 1]\n",
    "    num_input_bits = 2\n",
    "\n",
    "    inputs = [list(pair) for pair in product(bits, repeat=num_input_bits)]\n",
    "    outputs = [gate_operator(*pair) for pair in inputs]\n",
    "    return inputs, outputs"
   ]
  },
  {
   "cell_type": "code",
   "execution_count": 3,
   "metadata": {},
   "outputs": [],
   "source": [
    "# Create AND gate inputs & outputs.\n",
    "inputs, outputs = create_data(operator.and_)"
   ]
  },
  {
   "cell_type": "markdown",
   "metadata": {},
   "source": [
    "### Build and train the perceptron."
   ]
  },
  {
   "cell_type": "code",
   "execution_count": 4,
   "metadata": {},
   "outputs": [],
   "source": [
    "import torch.nn as nn\n",
    "import torch.optim as optim"
   ]
  },
  {
   "cell_type": "code",
   "execution_count": 5,
   "metadata": {},
   "outputs": [],
   "source": [
    "def train(model, inputs, outputs, num_epochs, lr):\n",
    "    losses = []\n",
    "\n",
    "    loss_fxn = nn.BCELoss()\n",
    "    optimizer = optim.RMSprop(model.parameters(), lr=lr)\n",
    "    \n",
    "    inputs = Variable(torch.Tensor(inputs), requires_grad=True)\n",
    "    outputs = Variable(torch.Tensor(outputs).unsqueeze(-1))\n",
    "\n",
    "    for _ in xrange(num_epochs):\n",
    "        predictions = model(inputs)\n",
    "        loss = loss_fxn(predictions, outputs)\n",
    "\n",
    "        optimizer.zero_grad()\n",
    "        loss.backward()\n",
    "        optimizer.step()\n",
    "\n",
    "        losses.append(loss.data[0])\n",
    "    return losses"
   ]
  },
  {
   "cell_type": "code",
   "execution_count": 6,
   "metadata": {},
   "outputs": [],
   "source": [
    "# Build model.\n",
    "num_input_bits = 2\n",
    "num_output_bits = 1\n",
    "model = nn.Sequential(\n",
    "            nn.Linear(num_input_bits, num_output_bits),\n",
    "            nn.Sigmoid()\n",
    "        )\n",
    "\n",
    "# Train model.\n",
    "losses = train(model, inputs, outputs, num_epochs=2000, lr=0.1)"
   ]
  },
  {
   "cell_type": "markdown",
   "metadata": {},
   "source": [
    "### Plot the training loss."
   ]
  },
  {
   "cell_type": "code",
   "execution_count": 7,
   "metadata": {},
   "outputs": [],
   "source": [
    "%matplotlib inline\n",
    "import matplotlib.pyplot as plt\n",
    "import seaborn as sns\n",
    "sns.set()  # Applies seaborn style defaults to matplotlib"
   ]
  },
  {
   "cell_type": "code",
   "execution_count": 8,
   "metadata": {},
   "outputs": [],
   "source": [
    "def create_loss_plot(losses, title):\n",
    "    plt.plot(losses);\n",
    "    plt.xlabel('iters');\n",
    "    plt.ylabel('loss');\n",
    "    plt.title(title);"
   ]
  },
  {
   "cell_type": "code",
   "execution_count": 9,
   "metadata": {},
   "outputs": [
    {
     "data": {
      "image/png": "[encoded data removed]",
      "text/plain": [
       "<matplotlib.figure.Figure at 0x7f421e7b6650>"
      ]
     },
     "metadata": {},
     "output_type": "display_data"
    }
   ],
   "source": [
    "# Plot losses.\n",
    "title = 'AND gate training'\n",
    "create_loss_plot(losses, title)"
   ]
  },
  {
   "cell_type": "markdown",
   "metadata": {},
   "source": [
    "### Visualize the decision boundary."
   ]
  },
  {
   "cell_type": "code",
   "execution_count": 10,
   "metadata": {},
   "outputs": [],
   "source": [
    "import matplotlib\n",
    "import numpy as np"
   ]
  },
  {
   "cell_type": "code",
   "execution_count": 11,
   "metadata": {},
   "outputs": [],
   "source": [
    "def create_decision_boundary_plot(model, inputs, outputs, title):\n",
    "    # https://stackoverflow.com/questions/22294241/plotting-a-decision-boundary-separating-2-classes-using-matplotlibs-pyplot\n",
    "    # https://stackoverflow.com/questions/12487060/matplotlib-color-according-to-class-labels\n",
    "\n",
    "    inputs = np.asarray(inputs)\n",
    "    outputs = np.asarray(outputs)\n",
    "\n",
    "    colors = ['blue', 'green']\n",
    "    plt.scatter(inputs[:, 0], inputs[:, 1], c=outputs.ravel(), cmap=matplotlib.colors.ListedColormap(colors));\n",
    "    plt.xlabel('x');\n",
    "    plt.ylabel('y');\n",
    "    plt.title(title)\n",
    "\n",
    "    bits = [0, 1]\n",
    "    step = 0.01\n",
    "    x_min, x_max = min(bits) - 1, max(bits) + 1\n",
    "    y_min, y_max = x_min, x_max\n",
    "\n",
    "    xx, yy = np.meshgrid(\n",
    "                np.arange(x_min, x_max, step),\n",
    "                np.arange(y_min, y_max, step)\n",
    "            )\n",
    "\n",
    "    mesh_inputs = np.c_[xx.ravel(), yy.ravel()]\n",
    "    predictions = model(Variable(torch.Tensor(mesh_inputs), requires_grad=False))\n",
    "    predictions = predictions.data.numpy().reshape(xx.shape)\n",
    "\n",
    "    plt.contour(xx, yy, np.around(predictions), colors=['red']);\n",
    "    plt.plot();"
   ]
  },
  {
   "cell_type": "code",
   "execution_count": 12,
   "metadata": {},
   "outputs": [
    {
     "data": {
      "image/png": "[encoded data removed]",
      "text/plain": [
       "<matplotlib.figure.Figure at 0x7f421e229690>"
      ]
     },
     "metadata": {},
     "output_type": "display_data"
    }
   ],
   "source": [
    "# View results.\n",
    "title = 'AND gate decision boundary'\n",
    "create_decision_boundary_plot(model, inputs, outputs, title)"
   ]
  },
  {
   "cell_type": "markdown",
   "metadata": {},
   "source": [
    "As expected, the perceptron successfully finds a decision boundary which splits the labels. Now let's see what happens for an `XOR` gate."
   ]
  },
  {
   "cell_type": "markdown",
   "metadata": {},
   "source": [
    "## `XOR` gate experiments."
   ]
  },
  {
   "cell_type": "code",
   "execution_count": 13,
   "metadata": {},
   "outputs": [],
   "source": [
    "# Create XOR gate inputs & outputs.\n",
    "inputs, outputs = create_data(operator.xor)"
   ]
  },
  {
   "cell_type": "code",
   "execution_count": 14,
   "metadata": {},
   "outputs": [],
   "source": [
    "# Build model.\n",
    "model = nn.Sequential(\n",
    "            nn.Linear(num_input_bits, num_output_bits),\n",
    "            nn.Sigmoid()\n",
    "        )\n",
    "\n",
    "# Train model.\n",
    "losses = train(model, inputs, outputs, num_epochs=1000, lr=0.01)"
   ]
  },
  {
   "cell_type": "code",
   "execution_count": 15,
   "metadata": {},
   "outputs": [
    {
     "data": {
      "image/png": "[encoded data removed]",
      "text/plain": [
       "<matplotlib.figure.Figure at 0x7f421e229750>"
      ]
     },
     "metadata": {},
     "output_type": "display_data"
    }
   ],
   "source": [
    "# Plot losses\n",
    "title = 'XOR gate training'\n",
    "create_loss_plot(losses, title)"
   ]
  },
  {
   "cell_type": "code",
   "execution_count": 16,
   "metadata": {},
   "outputs": [
    {
     "data": {
      "image/png": "[encoded data removed]",
      "text/plain": [
       "<matplotlib.figure.Figure at 0x7f421e1ce610>"
      ]
     },
     "metadata": {},
     "output_type": "display_data"
    }
   ],
   "source": [
    "# View results.\n",
    "title = 'XOR gate (1 hidden unit) decision boundary'\n",
    "create_decision_boundary_plot(model, inputs, outputs, title)"
   ]
  },
  {
   "cell_type": "markdown",
   "metadata": {},
   "source": [
    "The perceptron is unable to approximate the `XOR` gate! This is due to the fact that the `XOR` problem is not \n",
    "[linearly seperable][1] i.e. there is no **single** line which can seperate the two classes. To address this problem, we simply need to add an additional perceptron which, in turn, introduces an **additional decision boundary**.\n",
    "\n",
    "[1]: https://en.wikipedia.org/wiki/Linear_separability"
   ]
  },
  {
   "cell_type": "markdown",
   "metadata": {},
   "source": [
    "## `XOR` gate experiments (2 hidden units)."
   ]
  },
  {
   "cell_type": "code",
   "execution_count": 17,
   "metadata": {},
   "outputs": [],
   "source": [
    "# Build model.\n",
    "num_hidden_units = 2\n",
    "model = nn.Sequential(\n",
    "            nn.Linear(num_input_bits, num_hidden_units),\n",
    "            nn.Sigmoid(),\n",
    "            nn.Linear(num_hidden_units, num_output_bits),\n",
    "            nn.Sigmoid()\n",
    "        )\n",
    "\n",
    "# Train model.\n",
    "losses = train(model, inputs, outputs, num_epochs=5000, lr=0.01)"
   ]
  },
  {
   "cell_type": "code",
   "execution_count": 18,
   "metadata": {},
   "outputs": [
    {
     "data": {
      "image/png": "[encoded data removed]",
      "text/plain": [
       "<matplotlib.figure.Figure at 0x7f421e1018d0>"
      ]
     },
     "metadata": {},
     "output_type": "display_data"
    }
   ],
   "source": [
    "# Plot losses\n",
    "title = 'XOR gate training'\n",
    "create_loss_plot(losses, title)"
   ]
  },
  {
   "cell_type": "code",
   "execution_count": 19,
   "metadata": {},
   "outputs": [
    {
     "data": {
      "image/png": "[encoded data removed]",
      "text/plain": [
       "<matplotlib.figure.Figure at 0x7f421e17b910>"
      ]
     },
     "metadata": {},
     "output_type": "display_data"
    }
   ],
   "source": [
    "# View results.\n",
    "title = 'XOR gate (2 hidden units) decision boundary'\n",
    "create_decision_boundary_plot(model, inputs, outputs, title)"
   ]
  },
  {
   "cell_type": "markdown",
   "metadata": {},
   "source": [
    "For more information, as well as visualizations, see:\n",
    "  * [Quora: What is XOR problem in neural networks?][1]\n",
    "  * [XOR problem theory][2]\n",
    "\n",
    "\n",
    "[1]: https://www.quora.com/What-is-XOR-problem-in-neural-networks\n",
    "[2]: http://home.agh.edu.pl/~vlsi/AI/xor_t/en/main.htm"
   ]
  },
  {
   "cell_type": "markdown",
   "metadata": {},
   "source": [
    "# What does `XOR` have to do with parity?\n",
    "\n",
    "As noted on [Wikipedia][1], parity, in this context, refers to,\n",
    "\n",
    "> ...the evenness or oddness of the number of bits with value one within a given set of bits...It can be calculated via an XOR sum of the bits, yielding 0 for even parity and 1 for odd parity.\n",
    "\n",
    "\n",
    "[1]: https://en.wikipedia.org/wiki/Parity_bit#Parity"
   ]
  },
  {
   "cell_type": "markdown",
   "metadata": {},
   "source": [
    "Now that we have an understanding of the problem, let's start by solving the **first problem**:\n",
    "> Generate a dataset of random 100,000 binary strings of length 50. Train the LSTM; what performance do you get?"
   ]
  },
  {
   "cell_type": "markdown",
   "metadata": {},
   "source": [
    "## Fixed length experiments."
   ]
  },
  {
   "cell_type": "markdown",
   "metadata": {},
   "source": [
    "### Create the data."
   ]
  },
  {
   "cell_type": "code",
   "execution_count": 20,
   "metadata": {},
   "outputs": [],
   "source": [
    "import random"
   ]
  },
  {
   "cell_type": "code",
   "execution_count": 21,
   "metadata": {},
   "outputs": [],
   "source": [
    "def create_data(num_examples, max_seq_len, fixed_seq_len):\n",
    "    bits = [0, 1]\n",
    "    \n",
    "    inputs = []\n",
    "    outputs = []\n",
    "    for _ in xrange(num_examples):\n",
    "        if not fixed_seq_len:\n",
    "            seq_len = random.randint(1, max_seq_len)\n",
    "        else:\n",
    "            seq_len = max_seq_len\n",
    "            \n",
    "        seq = [random.choice(bits) for _ in xrange(seq_len)]\n",
    "        parity = int(sum(seq) % 2 != 0)\n",
    "        \n",
    "        inputs.append(seq)\n",
    "        outputs.append(parity)\n",
    "    return inputs, outputs"
   ]
  },
  {
   "cell_type": "code",
   "execution_count": 22,
   "metadata": {},
   "outputs": [],
   "source": [
    "# Create binary sequences of length 50.\n",
    "inputs, outputs = create_data(num_examples=60000, max_seq_len=50, fixed_seq_len=True)"
   ]
  },
  {
   "cell_type": "markdown",
   "metadata": {},
   "source": [
    "### Build the LSTM."
   ]
  },
  {
   "cell_type": "code",
   "execution_count": 23,
   "metadata": {},
   "outputs": [],
   "source": [
    "class Model(nn.Module):\n",
    "    def __init__(self, hidden_size):\n",
    "        super(Model, self).__init__()\n",
    "        self.LSTM = nn.LSTM(input_size=1, hidden_size=hidden_size, num_layers=1, batch_first=True)\n",
    "        self.Linear = nn.Linear(in_features=hidden_size, out_features=1)\n",
    "        self.Sigmoid = nn.Sigmoid()\n",
    "        \n",
    "    def forward(self, inputs):\n",
    "        outputs, _ = self.LSTM(inputs)\n",
    "        outputs = self.Linear(outputs[:, -1])\n",
    "        return self.Sigmoid(outputs)"
   ]
  },
  {
   "cell_type": "markdown",
   "metadata": {},
   "source": [
    "### Train the LSTM."
   ]
  },
  {
   "cell_type": "code",
   "execution_count": 25,
   "metadata": {},
   "outputs": [],
   "source": [
    "def train(inputs, outputs, model, optimizer, num_iters, batch_size):\n",
    "    X, y = map(np.asarray, [inputs, outputs])\n",
    "    num_examples = len(X)\n",
    "\n",
    "    losses = []\n",
    "    loss_fxn = nn.BCELoss()\n",
    "\n",
    "    for i in xrange(num_iters):\n",
    "        idx = np.random.randint(num_examples, size=batch_size)\n",
    "    \n",
    "        X_batch = torch.FloatTensor(X[idx, :]).unsqueeze(-1)\n",
    "        y_batch = torch.FloatTensor(y[idx]).unsqueeze(-1)\n",
    "        X_batch = Variable(X_batch, requires_grad=True)\n",
    "        y_batch = Variable(y_batch)\n",
    "\n",
    "        predictions = model(X_batch)\n",
    "        loss = loss_fxn(predictions, y_batch)\n",
    "\n",
    "        optimizer.zero_grad()\n",
    "        loss.backward()\n",
    "        optimizer.step()\n",
    "\n",
    "        losses.append(loss.data[0])\n",
    "    \n",
    "    return losses"
   ]
  },
  {
   "cell_type": "code",
   "execution_count": 27,
   "metadata": {},
   "outputs": [],
   "source": [
    "num_iters = 2000\n",
    "batch_size = 32\n",
    "\n",
    "model = Model(hidden_size=1)\n",
    "losses = train(inputs, outputs, model, optim.RMSprop(model.parameters()), num_iters, batch_size)"
   ]
  },
  {
   "cell_type": "markdown",
   "metadata": {},
   "source": [
    "### Plot the training loss."
   ]
  },
  {
   "cell_type": "code",
   "execution_count": 28,
   "metadata": {},
   "outputs": [
    {
     "data": {
      "image/png": "[encoded data removed]",
      "text/plain": [
       "<matplotlib.figure.Figure at 0x7f421d3ebe50>"
      ]
     },
     "metadata": {},
     "output_type": "display_data"
    }
   ],
   "source": [
    "# Plot losses\n",
    "title = 'LSTM (approach #1) training'\n",
    "create_loss_plot(losses, title)"
   ]
  },
  {
   "cell_type": "markdown",
   "metadata": {},
   "source": [
    "## Weird....\n",
    "Despite playing with the hyperparameters and testing larger models, no model is learning. \n",
    "\n",
    "Interestingly, **changing the original problem slightly** allows even the simplest model to learn:\n",
    "\n",
    "> **parity:** the evenness or oddness of the number ~~of bits with value one within a given set of bits~~ represented by the binary string\n",
    "\n",
    "Somehow the modified problem is either simpler or more suitable for the proposed architecture."
   ]
  },
  {
   "cell_type": "markdown",
   "metadata": {},
   "source": [
    "## Modified parity problem for fixed length experiments."
   ]
  },
  {
   "cell_type": "markdown",
   "metadata": {},
   "source": [
    "### Create the data."
   ]
  },
  {
   "cell_type": "code",
   "execution_count": 30,
   "metadata": {},
   "outputs": [],
   "source": [
    "def create_simpler_data():\n",
    "    num_examples = 100000\n",
    "    seq_len = 50\n",
    "    bits = [0, 1]\n",
    "    \n",
    "    inputs = []\n",
    "    outputs = []\n",
    "    for _ in xrange(num_examples):            \n",
    "        seq = [random.choice(bits) for _ in xrange(seq_len)]\n",
    "        \n",
    "        # Modifiy the parity to match our new definition\n",
    "        seq_str = ''.join(map(str, seq))\n",
    "        value = int(seq_str, base=2)\n",
    "        parity = int(value % 2 == 0)\n",
    "        \n",
    "        inputs.append(seq)\n",
    "        outputs.append(parity)\n",
    "    return inputs, outputs"
   ]
  },
  {
   "cell_type": "code",
   "execution_count": 31,
   "metadata": {},
   "outputs": [],
   "source": [
    "# Create binary sequences of length 50.\n",
    "simple_inputs, simple_outputs = create_simpler_data()"
   ]
  },
  {
   "cell_type": "markdown",
   "metadata": {},
   "source": [
    "### Train the LSTM."
   ]
  },
  {
   "cell_type": "code",
   "execution_count": 32,
   "metadata": {},
   "outputs": [],
   "source": [
    "model = Model(hidden_size=1)\n",
    "losses = train(simple_inputs, simple_outputs, model, optim.RMSprop(model.parameters()), num_iters, batch_size)"
   ]
  },
  {
   "cell_type": "code",
   "execution_count": 33,
   "metadata": {},
   "outputs": [
    {
     "data": {
      "image/png": "[encoded data removed]",
      "text/plain": [
       "<matplotlib.figure.Figure at 0x7f421e235c90>"
      ]
     },
     "metadata": {},
     "output_type": "display_data"
    }
   ],
   "source": [
    "# Plot losses\n",
    "title = 'Modified parity problem'\n",
    "create_loss_plot(losses, title)"
   ]
  },
  {
   "cell_type": "markdown",
   "metadata": {},
   "source": [
    "### Test accuracy."
   ]
  },
  {
   "cell_type": "code",
   "execution_count": 34,
   "metadata": {},
   "outputs": [],
   "source": [
    "def evaluate(inputs, outputs, model):\n",
    "    X = torch.FloatTensor(inputs).unsqueeze(-1)\n",
    "    y = torch.FloatTensor(outputs).unsqueeze(-1)\n",
    "\n",
    "    X = Variable(X, requires_grad=True)\n",
    "    y = Variable(y)\n",
    "\n",
    "    predicitons = model(X)\n",
    "    predicitons = np.around(predicitons.data.numpy())\n",
    "\n",
    "    count = (predicitons == y.data.numpy()).sum()\n",
    "\n",
    "    num_examples = len(X)\n",
    "    accuracy = count / float(num_examples)\n",
    "\n",
    "    return accuracy   "
   ]
  },
  {
   "cell_type": "code",
   "execution_count": 35,
   "metadata": {},
   "outputs": [
    {
     "name": "stdout",
     "output_type": "stream",
     "text": [
      "1.0\n"
     ]
    }
   ],
   "source": [
    "test_inputs, test_outputs = create_simpler_data()\n",
    "print evaluate(test_inputs, test_outputs, model)"
   ]
  },
  {
   "cell_type": "markdown",
   "metadata": {},
   "source": [
    "## Back to the original fixed length experiments."
   ]
  },
  {
   "cell_type": "markdown",
   "metadata": {},
   "source": [
    "It looks like we can train the model on shorter length sequences and it will generalize to much longer lengths."
   ]
  },
  {
   "cell_type": "code",
   "execution_count": 54,
   "metadata": {},
   "outputs": [],
   "source": [
    "inputs, outputs = create_data(num_examples=60000, max_seq_len=3, fixed_seq_len=True)"
   ]
  },
  {
   "cell_type": "code",
   "execution_count": 55,
   "metadata": {},
   "outputs": [],
   "source": [
    "model = Model(hidden_size=1)\n",
    "losses = train(inputs, outputs, model, optim.RMSprop(model.parameters()), num_iters, batch_size)"
   ]
  },
  {
   "cell_type": "code",
   "execution_count": 56,
   "metadata": {},
   "outputs": [
    {
     "data": {
      "image/png": "[encoded data removed]",
      "text/plain": [
       "<matplotlib.figure.Figure at 0x7f421d405710>"
      ]
     },
     "metadata": {},
     "output_type": "display_data"
    }
   ],
   "source": [
    "title = 'Fixed length parity problem'\n",
    "create_loss_plot(losses, title)"
   ]
  },
  {
   "cell_type": "code",
   "execution_count": 57,
   "metadata": {},
   "outputs": [
    {
     "name": "stdout",
     "output_type": "stream",
     "text": [
      "1.0\n"
     ]
    }
   ],
   "source": [
    "test_inputs, test_outputs = create_data(num_examples=60000, max_seq_len=50, fixed_seq_len=True)\n",
    "print evaluate(test_inputs, test_outputs, model)"
   ]
  },
  {
   "cell_type": "markdown",
   "metadata": {},
   "source": [
    "# TODO:\n",
    "  * are the weights interpretable?\n",
    "  * intuitive terms/understadning as to why it struggles with long seq lens -> would a human and why?\n",
    "  * training on seq len of 2 generalizes almost perfectly, what!\n",
    "  * random search over weight space as proposed in bengio paper work?\n",
    "  * how does this behavior compare with a vanilla rnn?"
   ]
  },
  {
   "cell_type": "code",
   "execution_count": null,
   "metadata": {},
   "outputs": [],
   "source": []
  }
 ],
 "metadata": {
  "kernelspec": {
   "display_name": "Python 2",
   "language": "python",
   "name": "python2"
  },
  "language_info": {
   "codemirror_mode": {
    "name": "ipython",
    "version": 2
   },
   "file_extension": ".py",
   "mimetype": "text/x-python",
   "name": "python",
   "nbconvert_exporter": "python",
   "pygments_lexer": "ipython2",
   "version": "2.7.14"
  }
 },
 "nbformat": 4,
 "nbformat_minor": 2
}
