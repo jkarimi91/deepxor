{
 "cells": [
  {
   "cell_type": "markdown",
   "metadata": {},
   "source": [
    "# What does `XOR` have to do with parity?\n",
    "\n",
    "As noted on [Wikipedia][1], parity, in this context, refers to,\n",
    "\n",
    "> ...the evenness or oddness of the number of bits with value one within a given set of bits...It can be calculated via an XOR sum of the bits, yielding 0 for even parity and 1 for odd parity.\n",
    "\n",
    "\n",
    "[1]: https://en.wikipedia.org/wiki/Parity_bit#Parity"
   ]
  },
  {
   "cell_type": "markdown",
   "metadata": {},
   "source": [
    "Now that we have an understanding of the problem, let's start by solving the **first problem**:\n",
    "> Generate a dataset of random 100,000 binary strings of length 50. Train the LSTM; what performance do you get?"
   ]
  },
  {
   "cell_type": "markdown",
   "metadata": {},
   "source": [
    "## Fixed length experiments."
   ]
  },
  {
   "cell_type": "markdown",
   "metadata": {},
   "source": [
    "### Create the data."
   ]
  },
  {
   "cell_type": "code",
   "execution_count": 20,
   "metadata": {},
   "outputs": [],
   "source": [
    "import random"
   ]
  },
  {
   "cell_type": "code",
   "execution_count": 21,
   "metadata": {},
   "outputs": [],
   "source": [
    "def create_data(num_examples, max_seq_len, fixed_seq_len):\n",
    "    bits = [0, 1]\n",
    "    \n",
    "    inputs = []\n",
    "    outputs = []\n",
    "    for _ in xrange(num_examples):\n",
    "        if not fixed_seq_len:\n",
    "            seq_len = random.randint(1, max_seq_len)\n",
    "        else:\n",
    "            seq_len = max_seq_len\n",
    "            \n",
    "        seq = [random.choice(bits) for _ in xrange(seq_len)]\n",
    "        parity = int(sum(seq) % 2 != 0)\n",
    "        \n",
    "        inputs.append(seq)\n",
    "        outputs.append(parity)\n",
    "    return inputs, outputs"
   ]
  },
  {
   "cell_type": "code",
   "execution_count": 22,
   "metadata": {},
   "outputs": [],
   "source": [
    "# Create binary sequences of length 50.\n",
    "inputs, outputs = create_data(num_examples=60000, max_seq_len=50, fixed_seq_len=True)"
   ]
  },
  {
   "cell_type": "markdown",
   "metadata": {},
   "source": [
    "### Build the LSTM."
   ]
  },
  {
   "cell_type": "code",
   "execution_count": 23,
   "metadata": {},
   "outputs": [],
   "source": [
    "class Model(nn.Module):\n",
    "    def __init__(self, hidden_size):\n",
    "        super(Model, self).__init__()\n",
    "        self.LSTM = nn.LSTM(input_size=1, hidden_size=hidden_size, num_layers=1, batch_first=True)\n",
    "        self.Linear = nn.Linear(in_features=hidden_size, out_features=1)\n",
    "        self.Sigmoid = nn.Sigmoid()\n",
    "        \n",
    "    def forward(self, inputs):\n",
    "        outputs, _ = self.LSTM(inputs)\n",
    "        outputs = self.Linear(outputs[:, -1])\n",
    "        return self.Sigmoid(outputs)"
   ]
  },
  {
   "cell_type": "markdown",
   "metadata": {},
   "source": [
    "### Train the LSTM."
   ]
  },
  {
   "cell_type": "code",
   "execution_count": 25,
   "metadata": {},
   "outputs": [],
   "source": [
    "def train(inputs, outputs, model, optimizer, num_iters, batch_size):\n",
    "    X, y = map(np.asarray, [inputs, outputs])\n",
    "    num_examples = len(X)\n",
    "\n",
    "    losses = []\n",
    "    loss_fxn = nn.BCELoss()\n",
    "\n",
    "    for i in xrange(num_iters):\n",
    "        idx = np.random.randint(num_examples, size=batch_size)\n",
    "    \n",
    "        X_batch = torch.FloatTensor(X[idx, :]).unsqueeze(-1)\n",
    "        y_batch = torch.FloatTensor(y[idx]).unsqueeze(-1)\n",
    "        X_batch = Variable(X_batch, requires_grad=True)\n",
    "        y_batch = Variable(y_batch)\n",
    "\n",
    "        predictions = model(X_batch)\n",
    "        loss = loss_fxn(predictions, y_batch)\n",
    "\n",
    "        optimizer.zero_grad()\n",
    "        loss.backward()\n",
    "        optimizer.step()\n",
    "\n",
    "        losses.append(loss.data[0])\n",
    "    \n",
    "    return losses"
   ]
  },
  {
   "cell_type": "code",
   "execution_count": 27,
   "metadata": {},
   "outputs": [],
   "source": [
    "num_iters = 2000\n",
    "batch_size = 32\n",
    "\n",
    "model = Model(hidden_size=1)\n",
    "losses = train(inputs, outputs, model, optim.RMSprop(model.parameters()), num_iters, batch_size)"
   ]
  },
  {
   "cell_type": "markdown",
   "metadata": {},
   "source": [
    "### Plot the training loss."
   ]
  },
  {
   "cell_type": "code",
   "execution_count": 28,
   "metadata": {},
   "outputs": [
    {
     "data": {
      "image/png": "[encoded data removed]",
      "text/plain": [
       "<matplotlib.figure.Figure at 0x7f421d3ebe50>"
      ]
     },
     "metadata": {},
     "output_type": "display_data"
    }
   ],
   "source": [
    "# Plot losses\n",
    "title = 'LSTM (approach #1) training'\n",
    "create_loss_plot(losses, title)"
   ]
  },
  {
   "cell_type": "markdown",
   "metadata": {},
   "source": [
    "## Weird....\n",
    "Despite playing with the hyperparameters and testing larger models, no model is learning. \n",
    "\n",
    "Interestingly, **changing the original problem slightly** allows even the simplest model to learn:\n",
    "\n",
    "> **parity:** the evenness or oddness of the number ~~of bits with value one within a given set of bits~~ represented by the binary string\n",
    "\n",
    "Somehow the modified problem is either simpler or more suitable for the proposed architecture."
   ]
  },
  {
   "cell_type": "markdown",
   "metadata": {},
   "source": [
    "## Modified parity problem for fixed length experiments."
   ]
  },
  {
   "cell_type": "markdown",
   "metadata": {},
   "source": [
    "### Create the data."
   ]
  },
  {
   "cell_type": "code",
   "execution_count": 30,
   "metadata": {},
   "outputs": [],
   "source": [
    "def create_simpler_data():\n",
    "    num_examples = 100000\n",
    "    seq_len = 50\n",
    "    bits = [0, 1]\n",
    "    \n",
    "    inputs = []\n",
    "    outputs = []\n",
    "    for _ in xrange(num_examples):            \n",
    "        seq = [random.choice(bits) for _ in xrange(seq_len)]\n",
    "        \n",
    "        # Modifiy the parity to match our new definition\n",
    "        seq_str = ''.join(map(str, seq))\n",
    "        value = int(seq_str, base=2)\n",
    "        parity = int(value % 2 == 0)\n",
    "        \n",
    "        inputs.append(seq)\n",
    "        outputs.append(parity)\n",
    "    return inputs, outputs"
   ]
  },
  {
   "cell_type": "code",
   "execution_count": 31,
   "metadata": {},
   "outputs": [],
   "source": [
    "# Create binary sequences of length 50.\n",
    "simple_inputs, simple_outputs = create_simpler_data()"
   ]
  },
  {
   "cell_type": "markdown",
   "metadata": {},
   "source": [
    "### Train the LSTM."
   ]
  },
  {
   "cell_type": "code",
   "execution_count": 32,
   "metadata": {},
   "outputs": [],
   "source": [
    "model = Model(hidden_size=1)\n",
    "losses = train(simple_inputs, simple_outputs, model, optim.RMSprop(model.parameters()), num_iters, batch_size)"
   ]
  },
  {
   "cell_type": "code",
   "execution_count": 33,
   "metadata": {},
   "outputs": [
    {
     "data": {
      "image/png": "[encoded data removed]",
      "text/plain": [
       "<matplotlib.figure.Figure at 0x7f421e235c90>"
      ]
     },
     "metadata": {},
     "output_type": "display_data"
    }
   ],
   "source": [
    "# Plot losses\n",
    "title = 'Modified parity problem'\n",
    "create_loss_plot(losses, title)"
   ]
  },
  {
   "cell_type": "markdown",
   "metadata": {},
   "source": [
    "### Test accuracy."
   ]
  },
  {
   "cell_type": "code",
   "execution_count": 34,
   "metadata": {},
   "outputs": [],
   "source": [
    "def evaluate(inputs, outputs, model):\n",
    "    X = torch.FloatTensor(inputs).unsqueeze(-1)\n",
    "    y = torch.FloatTensor(outputs).unsqueeze(-1)\n",
    "\n",
    "    X = Variable(X, requires_grad=True)\n",
    "    y = Variable(y)\n",
    "\n",
    "    predicitons = model(X)\n",
    "    predicitons = np.around(predicitons.data.numpy())\n",
    "\n",
    "    count = (predicitons == y.data.numpy()).sum()\n",
    "\n",
    "    num_examples = len(X)\n",
    "    accuracy = count / float(num_examples)\n",
    "\n",
    "    return accuracy   "
   ]
  },
  {
   "cell_type": "code",
   "execution_count": 35,
   "metadata": {},
   "outputs": [
    {
     "name": "stdout",
     "output_type": "stream",
     "text": [
      "1.0\n"
     ]
    }
   ],
   "source": [
    "test_inputs, test_outputs = create_simpler_data()\n",
    "print evaluate(test_inputs, test_outputs, model)"
   ]
  },
  {
   "cell_type": "markdown",
   "metadata": {},
   "source": [
    "## Back to the original fixed length experiments."
   ]
  },
  {
   "cell_type": "markdown",
   "metadata": {},
   "source": [
    "It looks like we can train the model on shorter length sequences and it will generalize to much longer lengths."
   ]
  },
  {
   "cell_type": "code",
   "execution_count": 54,
   "metadata": {},
   "outputs": [],
   "source": [
    "inputs, outputs = create_data(num_examples=60000, max_seq_len=3, fixed_seq_len=True)"
   ]
  },
  {
   "cell_type": "code",
   "execution_count": 55,
   "metadata": {},
   "outputs": [],
   "source": [
    "model = Model(hidden_size=1)\n",
    "losses = train(inputs, outputs, model, optim.RMSprop(model.parameters()), num_iters, batch_size)"
   ]
  },
  {
   "cell_type": "code",
   "execution_count": 56,
   "metadata": {},
   "outputs": [
    {
     "data": {
      "image/png": "[encoded data removed]",
      "text/plain": [
       "<matplotlib.figure.Figure at 0x7f421d405710>"
      ]
     },
     "metadata": {},
     "output_type": "display_data"
    }
   ],
   "source": [
    "title = 'Fixed length parity problem'\n",
    "create_loss_plot(losses, title)"
   ]
  },
  {
   "cell_type": "code",
   "execution_count": 57,
   "metadata": {},
   "outputs": [
    {
     "name": "stdout",
     "output_type": "stream",
     "text": [
      "1.0\n"
     ]
    }
   ],
   "source": [
    "test_inputs, test_outputs = create_data(num_examples=60000, max_seq_len=50, fixed_seq_len=True)\n",
    "print evaluate(test_inputs, test_outputs, model)"
   ]
  },
  {
   "cell_type": "markdown",
   "metadata": {},
   "source": [
    "# TODO:\n",
    "  * are the weights interpretable?\n",
    "  * intuitive terms/understadning as to why it struggles with long seq lens -> would a human and why?\n",
    "  * training on seq len of 2 generalizes almost perfectly, what!\n",
    "  * random search over weight space as proposed in bengio paper work?\n",
    "  * how does this behavior compare with a vanilla rnn?"
   ]
  },
  {
   "cell_type": "code",
   "execution_count": null,
   "metadata": {},
   "outputs": [],
   "source": []
  }
 ],
 "metadata": {
  "kernelspec": {
   "display_name": "Python 2",
   "language": "python",
   "name": "python2"
  },
  "language_info": {
   "codemirror_mode": {
    "name": "ipython",
    "version": 2
   },
   "file_extension": ".py",
   "mimetype": "text/x-python",
   "name": "python",
   "nbconvert_exporter": "python",
   "pygments_lexer": "ipython2",
   "version": "2.7.14"
  }
 },
 "nbformat": 4,
 "nbformat_minor": 2
}
